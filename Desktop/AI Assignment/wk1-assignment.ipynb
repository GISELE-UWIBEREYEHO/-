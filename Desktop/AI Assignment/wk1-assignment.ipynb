{
 "cells": [
  {
   "cell_type": "markdown",
   "id": "e55895e7",
   "metadata": {},
   "source": [
    "# PART A - QUESTION 1 (distance(x1, y1, x2, y2))"
   ]
  },
  {
   "cell_type": "code",
   "execution_count": 6,
   "id": "e0b521bf",
   "metadata": {},
   "outputs": [
    {
     "name": "stdout",
     "output_type": "stream",
     "text": [
      "Enter x1: 12\n",
      "Enter x2: 13\n",
      "Enter y1:14\n",
      "Enter y2: 15\n",
      "1.4142135623730951\n"
     ]
    }
   ],
   "source": [
    "#My solution for Question 1 below\n",
    "import math\n",
    "x1 = float(input(\"Enter x1: \"))\n",
    "x2=float(input(\"Enter x2: \"))\n",
    "y1=float(input( \"Enter y1:\"))\n",
    "y2=float(input(\"Enter y2: \"))\n",
    "def distance(x1, y1, x2, y2):\n",
    "    result =math.sqrt((y2-y1)**2 + (x2-x1)**2)\n",
    "    return result\n",
    "\n",
    "  #print the result\n",
    "\n",
    "print(distance(x1, y1, x2, y2))"
   ]
  },
  {
   "cell_type": "markdown",
   "id": "0d710f45",
   "metadata": {},
   "source": [
    "# PART A_QUESTION 2(circlesIntersect(x1, y1, r1, x2, y2, r2)\n"
   ]
  },
  {
   "cell_type": "code",
   "execution_count": 2,
   "id": "6ae90225",
   "metadata": {},
   "outputs": [
    {
     "name": "stdout",
     "output_type": "stream",
     "text": [
      "True\n"
     ]
    }
   ],
   "source": [
    "# my solution for question 2 below\n",
    "def distance(x1, y1, x2, y2):\n",
    "    result=math.sqrt((y2-y1)**2 +(x2-x1)**2)\n",
    "    return result\n",
    "def circlesIntersect(x1, y1, r1, x2, y2, r2):\n",
    "    d=distance(x1, y1, x2, y2)\n",
    "    if d<=(r1+r2):\n",
    "        return True\n",
    "    else:\n",
    "        return False\n",
    "    \n",
    "print(circlesIntersect(20,10,5,25,18,9))    \n",
    "\n"
   ]
  },
  {
   "cell_type": "markdown",
   "id": "1448f431",
   "metadata": {},
   "source": [
    "# PART A_QUESTION 3(getInRange(x, bound1, bound2)\n"
   ]
  },
  {
   "cell_type": "code",
   "execution_count": 7,
   "id": "aa5913a9",
   "metadata": {},
   "outputs": [
    {
     "name": "stdout",
     "output_type": "stream",
     "text": [
      "Enter x1: 5\n",
      "Enter bound1: 7\n",
      "Enter bound2: 9\n",
      "7.0\n"
     ]
    }
   ],
   "source": [
    "# my solution for question 3 below where lo is the lower bound and hi is the higher bound\n",
    "import math\n",
    "x= float(input(\"Enter x1: \"))\n",
    "bound1=float(input(\"Enter bound1: \"))\n",
    "bound2=float(input( \"Enter bound2: \"))\n",
    "\n",
    "def getInrange(x, bound1, bound2):\n",
    "    lo = min(bound1, bound2)\n",
    "    hi = max(bound1, bound2)\n",
    "    if x<lo:\n",
    "        return lo\n",
    "    if x>hi:\n",
    "        return hi\n",
    "    else:\n",
    "        return \"unmodified\"\n",
    "    \n",
    "print(getInrange(x, bound1, bound2))\n"
   ]
  },
  {
   "cell_type": "markdown",
   "id": "73367771",
   "metadata": {},
   "source": [
    "# PART A_QUESTION4(eggCartons(eggs) "
   ]
  },
  {
   "cell_type": "code",
   "execution_count": 4,
   "id": "dfc79b75",
   "metadata": {},
   "outputs": [
    {
     "name": "stdout",
     "output_type": "stream",
     "text": [
      "1\n"
     ]
    }
   ],
   "source": [
    "# my solution to question 4 below\n",
    "def eggcartons(eggs):\n",
    "    if eggs%12 == 0:\n",
    "        return eggs//12\n",
    "    else:\n",
    "        return eggs//12 + 1\n",
    "    \n",
    "print(eggcartons(12))"
   ]
  },
  {
   "cell_type": "markdown",
   "id": "1dd6870f",
   "metadata": {},
   "source": [
    "# PART A_QUESTION5(pascalsTriangleValue(row, col) "
   ]
  },
  {
   "cell_type": "code",
   "execution_count": 9,
   "id": "6f5a8f61",
   "metadata": {},
   "outputs": [
    {
     "name": "stdout",
     "output_type": "stream",
     "text": [
      "Enter row: 2\n",
      "Enter col: 2\n",
      "1\n"
     ]
    }
   ],
   "source": [
    "\n",
    "# my solution to question 5 below\n",
    "import math\n",
    "row= int(input(\"Enter row: \"))\n",
    "col=int(input(\"Enter col: \"))\n",
    "def pascalsTriangleValue(row, col):\n",
    "    result= round(math.factorial(row)/ (math.factorial(col)* math.factorial(row-col)))\n",
    "    return result\n",
    "print(pascalsTriangleValue(row, col))\n"
   ]
  },
  {
   "cell_type": "markdown",
   "id": "69e3d3ae",
   "metadata": {},
   "source": [
    "\n",
    "\n",
    "\n",
    "# PART A_QUESTION6(getKthDigit(n, k)"
   ]
  },
  {
   "cell_type": "code",
   "execution_count": 1,
   "id": "46def221",
   "metadata": {},
   "outputs": [
    {
     "name": "stdout",
     "output_type": "stream",
     "text": [
      "9\n"
     ]
    }
   ],
   "source": [
    "# my solution to question 6 below\n",
    "def getKthDigit(n, k):\n",
    "    n = abs(n)\n",
    "    n_str = str(n)\n",
    "    if k < len(n_str):\n",
    "    \n",
    "        return int(n_str[-(k + 1)])\n",
    "    else:\n",
    "        return -1\n",
    "print(getKthDigit(789, 0))"
   ]
  },
  {
   "cell_type": "markdown",
   "id": "4b97d14e",
   "metadata": {},
   "source": [
    "# PART A_QUESTION7(setKthDigit(n, k, d)"
   ]
  },
  {
   "cell_type": "code",
   "execution_count": 11,
   "id": "c3ef640d",
   "metadata": {},
   "outputs": [
    {
     "name": "stdout",
     "output_type": "stream",
     "text": [
      "461\n",
      "418\n"
     ]
    }
   ],
   "source": [
    "# my solution to question 7 below\n",
    "def setKthDigit(n, k, d):\n",
    "    if k < 0:\n",
    "        return ValueError(\"k must be non-negative\") \n",
    "    if d < 0 or d > 9:\n",
    "        return ValueError(\"d must be a single digit between 0 and 9\")\n",
    "\n",
    "    digits = [int(x) for x in str(abs(n))]\n",
    "\n",
    "    # If k is out of range, pad with zeros\n",
    "    if k >= len(digits):\n",
    "        digits.extend([0] * (k - len(digits) + 1))\n",
    "        \n",
    "    digits[-(k + 1)] = d\n",
    "    result = int(''.join(map(str, digits)))\n",
    "\n",
    "    if n < 0:\n",
    "        result *= -1\n",
    "\n",
    "    return result\n",
    "\n",
    "print(setKthDigit(468, 0, 1)) \n",
    "print(setKthDigit(468, 1, 1))   "
   ]
  },
  {
   "cell_type": "markdown",
   "id": "9bf31f5a",
   "metadata": {},
   "source": [
    "# PART B_QUESTION9(nearestOdd(n)"
   ]
  },
  {
   "cell_type": "code",
   "execution_count": 5,
   "id": "12d61404",
   "metadata": {},
   "outputs": [
    {
     "name": "stdout",
     "output_type": "stream",
     "text": [
      "13\n"
     ]
    }
   ],
   "source": [
    "# my solution to question 9 below\n",
    "def  nearestOdd(n):\n",
    "    rounded_n = round(n)\n",
    "    \n",
    "    if rounded_n % 2 != 0:\n",
    "        return rounded_n\n",
    "    \n",
    "    # Find the nearest odd number\n",
    "    lower_odd = rounded_n - 1\n",
    "    upper_odd = rounded_n + 1\n",
    "    \n",
    "    while True:\n",
    "        if lower_odd % 2 != 0:\n",
    "            return lower_odd\n",
    "        elif upper_odd % 2 != 0:\n",
    "            return upper_odd\n",
    "        lower_odd -= 2\n",
    "        upper_odd += 2\n",
    "print(nearestOdd(12.6))"
   ]
  },
  {
   "cell_type": "markdown",
   "id": "6280e8b7",
   "metadata": {},
   "source": [
    "# PARTB_QUESTION 10(numberOfPoolBalls(rows)"
   ]
  },
  {
   "cell_type": "code",
   "execution_count": 12,
   "id": "99c99ee0",
   "metadata": {},
   "outputs": [
    {
     "name": "stdout",
     "output_type": "stream",
     "text": [
      "Enter row: 3\n",
      "6.0\n"
     ]
    }
   ],
   "source": [
    "# my solution to question 10 below\n",
    "import math\n",
    "row= int(input(\"Enter row: \"))\n",
    "def numberOfPoolBalls(rows):\n",
    "    result= (row*(row+ 1))/2\n",
    "    return result\n",
    "print(numberOfPoolBalls(row))\n"
   ]
  },
  {
   "cell_type": "markdown",
   "id": "41374342",
   "metadata": {},
   "source": [
    "# PARTB_QUESTION11(numberOfPoolBallRows(balls)"
   ]
  },
  {
   "cell_type": "code",
   "execution_count": 13,
   "id": "175b385e",
   "metadata": {},
   "outputs": [
    {
     "name": "stdout",
     "output_type": "stream",
     "text": [
      "enter row: 6\n",
      "3\n"
     ]
    }
   ],
   "source": [
    "# my solution to question 11 below\n",
    "import math\n",
    "balls= int(input(\"enter row: \"))\n",
    "def numberOfPoolBallRows(balls):\n",
    "    # Calculate the integer square root of the total number of balls\n",
    "    rows = math.isqrt(balls)\n",
    "    \n",
    "    # If the total number of balls is a perfect square, return the number of rows\n",
    "    if rows * rows == balls:\n",
    "        return rows\n",
    "    else:\n",
    "        return rows + 1\n",
    "print(numberOfPoolBallRows(balls))\n",
    "\n"
   ]
  },
  {
   "cell_type": "markdown",
   "id": "8c063f47",
   "metadata": {},
   "source": [
    "# PARTB_QUESTION12(colorBlender(rgb1, rgb2,midpoints,n)\n",
    "\n"
   ]
  },
  {
   "cell_type": "code",
   "execution_count": null,
   "id": "c5ad124b",
   "metadata": {},
   "outputs": [],
   "source": [
    "# my solution to question 12 below\n",
    "def roundHalfUp(n):\n",
    "    return int(n + 0.5)\n",
    "\n",
    "def colorBlender(rgb1, rgb2, midpoints, n):\n",
    "    if n < 0 or n > midpoints + 1:\n",
    "        return None\n",
    "    \n",
    "    r1, g1, b1 = rgb1 // 1000000, (rgb1 // 1000) % 1000, rgb1 % 1000\n",
    "    r2, g2, b2 = rgb2 // 1000000, (rgb2 // 1000) % 1000, rgb2 % 1000\n",
    "    \n",
    "    r_step = (r2 - r1) / (midpoints + 1)\n",
    "    g_step = (g2 - g1) / (midpoints + 1)\n",
    "    b_step = (b2 - b1) / (midpoints + 1)\n",
    "    \n",
    "    if n == 0:\n",
    "        return rgb1\n",
    "    elif n == midpoints + 1:\n",
    "        return rgb2\n",
    "    else:\n",
    "        r = roundHalfUp(r1 + n * r_step)\n",
    "        g = roundHalfUp(g1 + n * g_step)\n",
    "        b = roundHalfUp(b1 + n * b_step)\n",
    "        return r * 1000000 + g * 1000 + b\n",
    "    \n",
    "print(colorBlender(220020060, 189252201, 3, 1))"
   ]
  },
  {
   "cell_type": "markdown",
   "id": "faeb583c",
   "metadata": {},
   "source": [
    "# Extra_Practice_for_week1 question1(fabricYards(inches))\n"
   ]
  },
  {
   "cell_type": "code",
   "execution_count": null,
   "id": "c916cf5e",
   "metadata": {},
   "outputs": [],
   "source": [
    "# my solution to question 1 below\n",
    "import math\n",
    "\n",
    "def fabricYards(inches):\n",
    "    return math.ceil(inches / 36)\n",
    "\n",
    "print(fabricYards(67))\n"
   ]
  },
  {
   "cell_type": "markdown",
   "id": "a8a7ec4b",
   "metadata": {},
   "source": [
    "# Extra_Practice_for_week1 question2(fabricExcess(inches))"
   ]
  },
  {
   "cell_type": "code",
   "execution_count": 31,
   "id": "657b2f6b",
   "metadata": {},
   "outputs": [
    {
     "name": "stdout",
     "output_type": "stream",
     "text": [
      "5\n"
     ]
    }
   ],
   "source": [
    "# my solution to question 2 below\n",
    "def fabricExcess(inches):\n",
    "    yards_needed = fabricYards(inches)\n",
    "    total_inches_needed = yards_needed * 36\n",
    "    excess_inches = total_inches_needed - inches\n",
    "    return excess_inches\n",
    "print(fabricExcess(67))\n"
   ]
  },
  {
   "cell_type": "markdown",
   "id": "adb4f894",
   "metadata": {},
   "source": [
    "# Extra_Practise_for_week1 question 3(isEvenPositiveInt(x))\n",
    "\n"
   ]
  },
  {
   "cell_type": "code",
   "execution_count": 30,
   "id": "551c1dba",
   "metadata": {},
   "outputs": [
    {
     "name": "stdout",
     "output_type": "stream",
     "text": [
      "False\n",
      "True\n"
     ]
    }
   ],
   "source": [
    "# my solution to question 3 below\n",
    "def isEvenPositiveInt(x):\n",
    "    if isinstance(x, int):\n",
    "        # Check if x is positive and even\n",
    "        if x > 0 and x % 2 == 0:\n",
    "            return True\n",
    "    return False\n",
    "print(isEvenPositiveInt(\"home\"))\n",
    "print (isEvenPositiveInt(1234))"
   ]
  },
  {
   "cell_type": "markdown",
   "id": "7b01a823",
   "metadata": {},
   "source": [
    "# Extra_practise_for_week1 question 4(nthFibonacciNumber(n))"
   ]
  },
  {
   "cell_type": "code",
   "execution_count": 32,
   "id": "ce534549",
   "metadata": {},
   "outputs": [
    {
     "name": "stdout",
     "output_type": "stream",
     "text": [
      "8\n"
     ]
    }
   ],
   "source": [
    "# my solution to question 4 below\n",
    "import math\n",
    "\n",
    "def nthFibonacciNumber(n):\n",
    "    n += 1\n",
    "\n",
    "    # Calculate the nth Fibonacci number using Binet's formula\n",
    "    phi = (1 + math.sqrt(5)) / 2\n",
    "    fib_n = round((phi**n - (-1/phi)**n) / math.sqrt(5))\n",
    "\n",
    "    return fib_n\n",
    "print(nthFibonacciNumber(5))"
   ]
  },
  {
   "cell_type": "markdown",
   "id": "0038e961",
   "metadata": {},
   "source": [
    "# Extra_practise_for_week1 question 5(isLegalTriangle(s1, s2, s3))\n"
   ]
  },
  {
   "cell_type": "code",
   "execution_count": 39,
   "id": "8ff3547e",
   "metadata": {},
   "outputs": [
    {
     "name": "stdout",
     "output_type": "stream",
     "text": [
      "True\n"
     ]
    }
   ],
   "source": [
    " #my solution to question 5 below\n",
    "\n",
    "def isLegalTriangle(s1, s2, s3):\n",
    "    # Check if all side lengths are positive\n",
    "    if s1 <= 0 or s2 <= 0 or s3 <= 0:\n",
    "        return False\n",
    "    else:\n",
    "        return True\n",
    "    \n",
    "    # Determine the longest side\n",
    "    longest_side = max(s1, s2, s3)\n",
    "    sum_of_other_sides = s1 + s2 + s3 - longest_side\n",
    "    result= sum_of_other_sides > longest_side\n",
    "    return result\n",
    "print(isLegalTriangle(3, 4, 8))"
   ]
  },
  {
   "cell_type": "markdown",
   "id": "045a2702",
   "metadata": {},
   "source": [
    "# Extra_practise_for_week2 question6(isRightTriangle(x1, y1, x2, y2, x3, y3))\n"
   ]
  },
  {
   "cell_type": "code",
   "execution_count": 40,
   "id": "3404c321",
   "metadata": {},
   "outputs": [
    {
     "name": "stdout",
     "output_type": "stream",
     "text": [
      "False\n"
     ]
    }
   ],
   "source": [
    "# my solution to question 6 below\n",
    "\n",
    "import math\n",
    "\n",
    "def almostEqual(a, b, epsilon=1e-6):\n",
    "    return abs(a - b) < epsilon\n",
    "\n",
    "def distance(x1, y1, x2, y2):\n",
    "    result= math.sqrt((x2 - x1)**2 + (y2 - y1)**2)\n",
    "    return result\n",
    "\n",
    "def isRightTriangle(x1, y1, x2, y2, x3, y3):\n",
    "    side_lengths = [\n",
    "        distance(x1, y1, x2, y2),\n",
    "        distance(x2, y2, x3, y3),\n",
    "        distance(x3, y3, x1, y1)\n",
    "          ]\n",
    "    side_lengths.sort() \n",
    "    return almostEqual(side_lengths[0]**2 + side_lengths[1]**2, side_lengths[2]**2)\n",
    "print(isRightTriangle(0,0,3,5,3,7))"
   ]
  },
  {
   "cell_type": "code",
   "execution_count": null,
   "id": "a199e358",
   "metadata": {},
   "outputs": [],
   "source": []
  }
 ],
 "metadata": {
  "kernelspec": {
   "display_name": "Python 3 (ipykernel)",
   "language": "python",
   "name": "python3"
  },
  "language_info": {
   "codemirror_mode": {
    "name": "ipython",
    "version": 3
   },
   "file_extension": ".py",
   "mimetype": "text/x-python",
   "name": "python",
   "nbconvert_exporter": "python",
   "pygments_lexer": "ipython3",
   "version": "3.11.5"
  }
 },
 "nbformat": 4,
 "nbformat_minor": 5
}
